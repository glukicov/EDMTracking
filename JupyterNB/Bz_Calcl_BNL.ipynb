{
 "cells": [
  {
   "cell_type": "markdown",
   "metadata": {
    "Collapsed": "false"
   },
   "source": [
    "# Calculate the observed amplitudes with data."
   ]
  },
  {
   "cell_type": "markdown",
   "metadata": {
    "Collapsed": "false"
   },
   "source": [
    "Define constants"
   ]
  },
  {
   "cell_type": "code",
   "execution_count": 7,
   "metadata": {
    "Collapsed": "false"
   },
   "outputs": [],
   "source": [
    "from math import sqrt, radians, atan2, atan, tan, degrees\n",
    "from IPython.display import Latex\n",
    "import numpy as np\n",
    "font_size=14\n",
    "import matplotlib.pyplot as plt\n",
    "import matplotlib.patches as patches\n",
    "import os, sys\n",
    "sys.path.append('../CommonUtils/')\n",
    "import CommonUtils as cu"
   ]
  },
  {
   "cell_type": "code",
   "execution_count": 8,
   "metadata": {
    "Collapsed": "false"
   },
   "outputs": [
    {
     "name": "stdout",
     "output_type": "stream",
     "text": [
      "Mean B_z= 1.5207207207207192 +- 3.9239648833518226\n"
     ]
    }
   ],
   "source": [
    "A_bz=   np.array([-17.6, 20.3])\n",
    "A_bz_e= np.array([5.5 , 5.6])\n",
    "A_bz_mean= np.sum(A_bz * A_bz_e)/np.sum(A_bz_e)\n",
    "A_bz_mean_e = 1.0/np.sqrt(np.sum(1.0/A_bz_e**2))\n",
    "ds_names=('1999', \"2000\")\n",
    "ds_colors=[\"k\", \"k\"]\n",
    "ds_markers=[\"o\", \"o\"]\n",
    "\n",
    "print(\"Mean B_z=\", A_bz_mean, \"+-\", A_bz_mean_e)"
   ]
  },
  {
   "cell_type": "code",
   "execution_count": 10,
   "metadata": {
    "Collapsed": "false"
   },
   "outputs": [
    {
     "data": {
      "image/png": "[encoded data removed]",
      "text/plain": [
       "<Figure size 432x288 with 1 Axes>"
      ]
     },
     "metadata": {
      "needs_background": "light"
     },
     "output_type": "display_data"
    }
   ],
   "source": [
    "fig, ax = cu.plot_fom(ds_names, A_bz, A_bz_e, ds_colors, ds_markers, y_label=r\"$A_{B_z} \\ [\\rm{\\mu}$rad]\", no_legend=True, BNL=True)\n",
    "ax.set_xlim(0.7, 2.2)\n",
    "ax.set_ylim(-30, 30)\n",
    "ax.plot([0,5],[A_bz_mean, A_bz_mean], ls=\":\", c=\"g\", zorder=1, label=r\"$A_{B_z}$=\"+str(round(A_bz_mean,1))+\"(\"+str(round(A_bz_mean_e,1))+r\") $\\rm{\\mu}$rad\")\n",
    "# ax.plot([0,5],[br_mean+br_mean_e, br_mean+br_mean_e], ls=\"--\", c=\"orange\")\n",
    "# ax.plot([0,5],[br_mean-br_mean_e, br_mean-br_mean_e], ls=\"--\", c=\"orange\")\n",
    "ax.set_xlabel(\"\")\n",
    "plt.xticks(fontsize=14)\n",
    "\n",
    "ax.add_patch(patches.Rectangle(\n",
    "        xy=(0, A_bz_mean-A_bz_mean_e),  # point of origin.\n",
    "        width=5,\n",
    "        height=A_bz_mean_e*2,\n",
    "        linewidth=0,\n",
    "        color='green',\n",
    "        fill=True,\n",
    "        alpha=0.7,\n",
    "        zorder=2,\n",
    "         label=r\"$1\\sigma$ band\"\n",
    "    )\n",
    ")\n",
    "\n",
    "band_width=2\n",
    "ax.add_patch(patches.Rectangle(\n",
    "        xy=(0, A_bz_mean-(A_bz_mean_e*band_width)),  # point of origin.\n",
    "        width=5,\n",
    "        height=A_bz_mean_e*band_width*2,\n",
    "        linewidth=0,\n",
    "        color='purple',\n",
    "        fill=True,\n",
    "        alpha=0.2,\n",
    "        zorder=3,\n",
    "        label=str(band_width)+r\"$\\sigma$ band\"\n",
    "    )\n",
    ")\n",
    "\n",
    "band_width=3\n",
    "ax.add_patch(patches.Rectangle(\n",
    "        xy=(0, A_bz_mean-(A_bz_mean_e*band_width)),  # point of origin.\n",
    "        width=5,\n",
    "        height=A_bz_mean_e*band_width*2,\n",
    "        linewidth=0,\n",
    "        color='orange',\n",
    "        fill=True,\n",
    "        alpha=0.2,\n",
    "        zorder=3,\n",
    "        label=str(band_width)+r\"$\\sigma$ band\"\n",
    "    )\n",
    ")\n",
    "\n",
    "plt.legend(fontsize=10, loc=(0.45,0.028))\n",
    "plt.tight_layout()\n",
    "fig.savefig(\"../fig/sum_A_bz_BNL.png\", dpi=300, bbox_inches='tight');"
   ]
  },
  {
   "cell_type": "code",
   "execution_count": null,
   "metadata": {
    "Collapsed": "false"
   },
   "outputs": [],
   "source": []
  },
  {
   "cell_type": "code",
   "execution_count": null,
   "metadata": {
    "Collapsed": "false"
   },
   "outputs": [],
   "source": []
  },
  {
   "cell_type": "code",
   "execution_count": null,
   "metadata": {
    "Collapsed": "false"
   },
   "outputs": [],
   "source": []
  }
 ],
 "metadata": {
  "kernelspec": {
   "display_name": "Python 3",
   "language": "python",
   "name": "python3"
  },
  "language_info": {
   "codemirror_mode": {
    "name": "ipython",
    "version": 3
   },
   "file_extension": ".py",
   "mimetype": "text/x-python",
   "name": "python",
   "nbconvert_exporter": "python",
   "pygments_lexer": "ipython3",
   "version": "3.7.6"
  }
 },
 "nbformat": 4,
 "nbformat_minor": 4
}
