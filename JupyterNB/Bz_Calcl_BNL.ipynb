{
 "cells": [
  {
   "cell_type": "markdown",
   "metadata": {
    "Collapsed": "false"
   },
   "source": [
    "# Calculate the observed amplitudes with data."
   ]
  },
  {
   "cell_type": "markdown",
   "metadata": {
    "Collapsed": "false"
   },
   "source": [
    "Define constants"
   ]
  },
  {
   "cell_type": "code",
   "execution_count": 1,
   "metadata": {
    "Collapsed": "false"
   },
   "outputs": [],
   "source": [
    "from math import sqrt, radians, atan2, atan, tan, degrees\n",
    "from IPython.display import Latex\n",
    "import numpy as np\n",
    "font_size=14\n",
    "import matplotlib.pyplot as plt\n",
    "import matplotlib.patches as patches\n",
    "import os, sys\n",
    "sys.path.append('../CommonUtils/')\n",
    "import CommonUtils as cu"
   ]
  },
  {
   "cell_type": "code",
   "execution_count": 2,
   "metadata": {
    "Collapsed": "false"
   },
   "outputs": [
    {
     "name": "stdout",
     "output_type": "stream",
     "text": [
      "Mean B_z= 1.5207207207207192 +- 3.9239648833518226\n"
     ]
    }
   ],
   "source": [
    "A_bz=   np.array([-17.6, 20.3])\n",
    "A_bz_e= np.array([5.5 , 5.6])\n",
    "A_bz_mean= np.sum(A_bz * A_bz_e)/np.sum(A_bz_e)\n",
    "A_bz_mean_e = 1.0/np.sqrt(np.sum(1.0/A_bz_e**2))\n",
    "ds_names=('1999', \"2000\")\n",
    "ds_colors=[\"k\", \"k\"]\n",
    "ds_markers=[\"o\", \"o\"]\n",
    "\n",
    "print(\"Mean B_z=\", A_bz_mean, \"+-\", A_bz_mean_e)"
   ]
  },
  {
   "cell_type": "code",
   "execution_count": 7,
   "metadata": {
    "Collapsed": "false"
   },
   "outputs": [
    {
     "data": {
      "image/png": "[encoded data removed]",
      "text/plain": [
       "<Figure size 432x288 with 1 Axes>"
      ]
     },
     "metadata": {
      "needs_background": "light"
     },
     "output_type": "display_data"
    }
   ],
   "source": [
    "fig, ax = cu.plot_fom(ds_names, A_bz, A_bz_e, ds_colors, ds_markers, y_label=r\"$A_{B_z} \\ [\\rm{\\mu}$rad]\", no_legend=True, BNL=True)\n",
    "ax.set_xlim(0.7, 2.2)\n",
    "ax.set_ylim(-32, 30)\n",
    "ax.plot([0,5],[A_bz_mean, A_bz_mean], ls=\":\", c=\"g\", zorder=1, label=r\"$A_{B_z}$=\"+str(round(A_bz_mean,1))+\"(\"+str(round(A_bz_mean_e,1))+r\") $\\rm{\\mu}$rad\")\n",
    "# ax.plot([0,5],[br_mean+br_mean_e, br_mean+br_mean_e], ls=\"--\", c=\"orange\")\n",
    "# ax.plot([0,5],[br_mean-br_mean_e, br_mean-br_mean_e], ls=\"--\", c=\"orange\")\n",
    "ax.set_xlabel(\"\")\n",
    "plt.xticks(fontsize=14)\n",
    "\n",
    "ax.add_patch(patches.Rectangle(\n",
    "        xy=(0, A_bz_mean-A_bz_mean_e),  # point of origin.\n",
    "        width=5,\n",
    "        height=A_bz_mean_e*2,\n",
    "        linewidth=0,\n",
    "        color='green',\n",
    "        fill=True,\n",
    "        alpha=0.7,\n",
    "        zorder=2,\n",
    "         label=r\"$1\\sigma$ band\"\n",
    "    )\n",
    ")\n",
    "\n",
    "band_width=2\n",
    "ax.add_patch(patches.Rectangle(\n",
    "        xy=(0, A_bz_mean-(A_bz_mean_e*band_width)),  # point of origin.\n",
    "        width=5,\n",
    "        height=A_bz_mean_e*band_width*2,\n",
    "        linewidth=0,\n",
    "        color='purple',\n",
    "        fill=True,\n",
    "        alpha=0.2,\n",
    "        zorder=3,\n",
    "        label=str(band_width)+r\"$\\sigma$ band\"\n",
    "    )\n",
    ")\n",
    "\n",
    "band_width=3\n",
    "ax.add_patch(patches.Rectangle(\n",
    "        xy=(0, A_bz_mean-(A_bz_mean_e*band_width)),  # point of origin.\n",
    "        width=5,\n",
    "        height=A_bz_mean_e*band_width*2,\n",
    "        linewidth=0,\n",
    "        color='orange',\n",
    "        fill=True,\n",
    "        alpha=0.2,\n",
    "        zorder=3,\n",
    "        label=str(band_width)+r\"$\\sigma$ band\"\n",
    "    )\n",
    ")\n",
    "\n",
    "plt.legend(fontsize=12, loc=(0.45,0.028))\n",
    "plt.tight_layout()\n",
    "fig.savefig(\"../fig/sum_A_bz_BNL.png\", dpi=300, bbox_inches='tight');"
   ]
  },
  {
   "cell_type": "code",
   "execution_count": 10,
   "metadata": {
    "Collapsed": "false"
   },
   "outputs": [
    {
     "name": "stdout",
     "output_type": "stream",
     "text": [
      "[17.1 14.6 15.  25.4 16.9  7.5  7.   6.4]\n",
      "[10.6  9.1  7.5  5.4 11.1  9.5  7.9  5.8]\n",
      "Mean B_z= 13.677727952167412 +- 2.6919750815373864\n"
     ]
    }
   ],
   "source": [
    "s12=   np.array([171, 14.6, 15.0, 25.4])\n",
    "s12_e= np.array([10.6, 9.1,  7.5, 5.4])\n",
    "s18=   np.array([16.9, 7.5, 7.0, 6.4])\n",
    "s18_e= np.array([11.1, 9.5, 7.9, 5.8])\n",
    "\n",
    "A_bz=np.append(s12,s18)\n",
    "A_bz_e=np.append(s12_e,s18_e)\n",
    "    \n",
    "print(A_bz)\n",
    "print(A_bz_e)\n",
    "\n",
    "\n",
    "A_bz_mean= np.sum(A_bz * A_bz_e)/np.sum(A_bz_e)\n",
    "A_bz_mean_e = 1.0/np.sqrt(np.sum(1.0/A_bz_e**2))\n",
    "ds_names=('Run-1a', \"Run-1b\", \"Run-1c\", \"Run-1d\")\n",
    "ds_colors_s12=[\"r\", \"r\", \"r\", \"r\"]\n",
    "ds_markers_s12=[\"+\", \"+\", \"+\", \"+\"]\n",
    "ds_colors_s18=[\"b\", \"b\", \"b\", \"b\"]\n",
    "ds_markers_s18=[\"o\", \"o\", \"o\", \"o\"]\n",
    "\n",
    "print(\"Mean B_z=\", A_bz_mean, \"+-\", A_bz_mean_e)"
   ]
  },
  {
   "cell_type": "code",
   "execution_count": 12,
   "metadata": {
    "Collapsed": "false"
   },
   "outputs": [
    {
     "data": {
      "image/png": "[encoded data removed]",
      "text/plain": [
       "<Figure size 432x288 with 1 Axes>"
      ]
     },
     "metadata": {
      "needs_background": "light"
     },
     "output_type": "display_data"
    }
   ],
   "source": [
    "fig, ax = cu.plot_fom(ds_names, s12, s12_e, ds_colors_s12, ds_markers_s12, y_label=r\"$A_{B_z} \\ [\\rm{\\mu}$rad]\", eL=\" \", label=\"S12\", zorder=1)\n",
    "fig, ax = cu.plot_fom(ds_names, s18, s18_e, ds_colors_s18, ds_markers_s18, y_label=r\"$A_{B_z} \\ [\\rm{\\mu}$rad]\", fig=fig, ax=ax, eL=\" \", label=\"S18\", zorder=3)"
   ]
  },
  {
   "cell_type": "code",
   "execution_count": null,
   "metadata": {
    "Collapsed": "false"
   },
   "outputs": [],
   "source": []
  }
 ],
 "metadata": {
  "kernelspec": {
   "display_name": "Python 3",
   "language": "python",
   "name": "python3"
  },
  "language_info": {
   "codemirror_mode": {
    "name": "ipython",
    "version": 3
   },
   "file_extension": ".py",
   "mimetype": "text/x-python",
   "name": "python",
   "nbconvert_exporter": "python",
   "pygments_lexer": "ipython3",
   "version": "3.7.6"
  }
 },
 "nbformat": 4,
 "nbformat_minor": 4
}
