{
 "cells": [
  {
   "cell_type": "markdown",
   "metadata": {
    "Collapsed": "false"
   },
   "source": [
    "# Calculate the observed amplitudes with data."
   ]
  },
  {
   "cell_type": "markdown",
   "metadata": {
    "Collapsed": "false"
   },
   "source": [
    "Define constants"
   ]
  },
  {
   "cell_type": "code",
   "execution_count": 4,
   "metadata": {
    "Collapsed": "false"
   },
   "outputs": [],
   "source": [
    "from math import sqrt, radians, atan2, atan, tan, degrees\n",
    "from IPython.display import Latex\n",
    "import numpy as np\n",
    "font_size=14\n",
    "import matplotlib.pyplot as plt\n",
    "import matplotlib.patches as patches\n",
    "import os, sys\n",
    "sys.path.append('../CommonUtils/')\n",
    "import CommonUtils as cu"
   ]
  },
  {
   "cell_type": "code",
   "execution_count": 5,
   "metadata": {
    "Collapsed": "false"
   },
   "outputs": [
    {
     "name": "stdout",
     "output_type": "stream",
     "text": [
      "Using asymmetry factor of 0.089\n"
     ]
    }
   ],
   "source": [
    "a_edm = 0.089\n",
    "print(\"Using asymmetry factor of\", a_edm)"
   ]
  },
  {
   "cell_type": "markdown",
   "metadata": {
    "Collapsed": "false"
   },
   "source": [
    "$$ \\delta ' = \\tan\\left(\\frac{B_z}{B_y}\\right)  \\approx \\frac{B_z}{B_y}$$"
   ]
  },
  {
   "cell_type": "code",
   "execution_count": 10,
   "metadata": {
    "Collapsed": "false"
   },
   "outputs": [
    {
     "name": "stdout",
     "output_type": "stream",
     "text": [
      "For A_bz of 1.4 +- 3.3 urad\n",
      "Tilt angle in the lab frame 15.730337078651685 +- 37.07865168539326 urad or ppm\n",
      "Tilt angle in the lab frame 15.7 +- 37.1 urad or ppm\n",
      "Tilt angle in the lab frame 16.0 +- 37.0 urad or ppm\n",
      "Using asymmetry factor of 0.089\n"
     ]
    }
   ],
   "source": [
    "A_bz_mean = 1.4\n",
    "A_bz_mean_e = 3.3\n",
    "print(\"For A_bz of\", A_bz_mean, \"+-\",A_bz_mean_e ,\"urad\")\n",
    "\n",
    "delta_lab = A_bz_mean / a_edm\n",
    "delta_lab_e = A_bz_mean_e / a_edm\n",
    "\n",
    "print(\"Tilt angle in the lab frame\", delta_lab, \"+-\" ,delta_lab_e, \"urad or ppm\")\n",
    "print(\"Tilt angle in the lab frame\", round(delta_lab,1), \"+-\" , round(delta_lab_e,1), \"urad or ppm\")\n",
    "print(\"Tilt angle in the lab frame\", round(delta_lab,0), \"+-\" , round(delta_lab_e,0), \"urad or ppm\")\n",
    "print(\"Using asymmetry factor of\", a_edm)"
   ]
  },
  {
   "cell_type": "markdown",
   "metadata": {
    "Collapsed": "false"
   },
   "source": [
    "$$ \\frac{\\Delta \\omega_a}{\\omega_a} = \\frac{1}{2}\\left(\\frac{(1+a_{\\mu})}{a_{\\mu}\\gamma}\\frac{B_z}{B_y}\\right)^2 $$"
   ]
  },
  {
   "cell_type": "code",
   "execution_count": 11,
   "metadata": {
    "Collapsed": "false"
   },
   "outputs": [
    {
     "name": "stdout",
     "output_type": "stream",
     "text": [
      "ɣ=29.30343\n"
     ]
    }
   ],
   "source": [
    "aMuon= 11659208.9e-10  \n",
    "betaGammaMagicSquared = (1.0 / aMuon)\n",
    "gammaMagicSquared = (1.0 + betaGammaMagicSquared)\n",
    "gammaMagic=sqrt(gammaMagicSquared)\n",
    "print(\"ɣ\"+\"={0:.5f}\".format(gammaMagic))"
   ]
  },
  {
   "cell_type": "code",
   "execution_count": 12,
   "metadata": {
    "Collapsed": "false"
   },
   "outputs": [],
   "source": [
    "def func_omega(delta):\n",
    "    delta = delta*1e-6 # input in ppm\n",
    "    corr = 0.5 * ( ( (1+aMuon)/(aMuon*gammaMagic) ) * delta )**2\n",
    "    return corr*1e+6 # output in ppm"
   ]
  },
  {
   "cell_type": "code",
   "execution_count": 13,
   "metadata": {
    "Collapsed": "false"
   },
   "outputs": [
    {
     "name": "stdout",
     "output_type": "stream",
     "text": [
      "For tilt of 15.730337078651685 ppm\n",
      "Omega_a uncertainty 0.1062387706935765 +- 0.5902756188025755 ppm\n",
      "Omega_a uncertainty 106.2387706935765 +- 590.2756188025755 ppb\n",
      "Omega_a uncertainty 0.1 +- 0.6 ppm\n",
      "Omega_a uncertainty 0.11 + 1.09 - -0.09 ppm\n",
      "Omega_a uncertainty 106.2 + 1091.1 - -89.4 ppb\n"
     ]
    }
   ],
   "source": [
    "delta_omega = func_omega(delta_lab)\n",
    "delta_omega_e = func_omega(delta_lab_e)\n",
    "\n",
    "print(\"For tilt of\", delta_lab, \"ppm\")\n",
    "\n",
    "print(\"Omega_a uncertainty\", delta_omega, \"+-\" ,delta_omega_e, \"ppm\")\n",
    "print(\"Omega_a uncertainty\", delta_omega*1e3, \"+-\" ,delta_omega_e*1e3, \"ppb\")\n",
    "print(\"Omega_a uncertainty\", round(delta_omega,1), \"+-\" , round(delta_omega_e,1), \"ppm\")\n",
    "\n",
    "#calculate the asymmetric errors \n",
    "delta_omega_e_P = func_omega( (delta_lab+delta_lab_e) )\n",
    "delta_omega_e_M = func_omega( (delta_lab-delta_lab_e) )\n",
    "\n",
    "print(\"Omega_a uncertainty\", round(delta_omega,2), \"+\" , round(delta_omega_e_P-delta_omega,2),\"-\",round(delta_omega-delta_omega_e_M,2),  \"ppm\")\n",
    "print(\"Omega_a uncertainty\", round(delta_omega*1e3,1), \"+\" , round( (delta_omega_e_P-delta_omega)*1e3,1), \"-\",round( (delta_omega-delta_omega_e_M)*1e3,1),  \"ppb\")\n"
   ]
  },
  {
   "cell_type": "code",
   "execution_count": 27,
   "metadata": {
    "Collapsed": "false"
   },
   "outputs": [
    {
     "data": {
      "image/png": "[encoded data removed]",
      "text/plain": [
       "<Figure size 648x360 with 1 Axes>"
      ]
     },
     "metadata": {
      "needs_background": "light"
     },
     "output_type": "display_data"
    }
   ],
   "source": [
    "delta_test = np.linspace(0, delta_lab+delta_lab_e*1.5, 400)\n",
    "fig, ax = cu.plot(delta_test, func_omega(delta_test), figsize=(9,5), plot=True, lw=2, ls=\"-\", c=\"purple\", label=r\"$ \\frac{\\Delta \\omega_a}{\\omega_a} = \\frac{1}{2}\\left(\\frac{(1+a_{\\mu})}{a_{\\mu}\\gamma}\\frac{B_z}{B_y}\\right)^2$\")\n",
    "ax.set_xlabel(r\"$\\frac{B_z}{B_y}$ (ppm)\", fontsize=15)\n",
    "ax.set_ylabel(r\"$\\frac{\\Delta \\omega_a}{\\omega_a}$ (ppm)\", fontsize=15)\n",
    "ax.set_xlim(0, delta_lab+delta_lab_e*1.3)\n",
    "ax.set_ylim(0, delta_omega_e_P*1.2)\n",
    "\n",
    "ax.plot([delta_lab,delta_lab],[0, delta_omega], ls=\":\", c=\"g\", zorder=1)\n",
    "ax.plot([delta_lab-delta_lab_e,delta_lab-delta_lab_e],[0, delta_omega_e_M], ls=\"-\", c=\"g\", zorder=1)\n",
    "ax.plot([delta_lab+delta_lab_e,delta_lab+delta_lab_e],[0, delta_omega_e_P], ls=\"-\", c=\"g\", zorder=1)\n",
    "\n",
    "ax.plot([0,delta_lab],[delta_omega, delta_omega], ls=\":\", c=\"g\", zorder=1)\n",
    "ax.plot([0,delta_lab+delta_lab_e],[delta_omega_e_P, delta_omega_e_P], ls=\"-\", c=\"g\", zorder=1)\n",
    "ax.plot([0,delta_lab-delta_lab_e],[delta_omega_e_M, delta_omega_e_M], ls=\"-\", c=\"g\", zorder=1)\n",
    "\n",
    "ax.add_patch(patches.Rectangle(\n",
    "        xy=(0, delta_omega_e_M),  # point of origin.\n",
    "        width=delta_lab+delta_lab_e,\n",
    "        height=delta_omega_e_P-delta_omega_e_M,\n",
    "        linewidth=0,\n",
    "        color='green',\n",
    "        fill=True,\n",
    "        alpha=0.2,\n",
    "        zorder=3\n",
    "    )\n",
    ")\n",
    "\n",
    "ax.add_patch(patches.Rectangle(\n",
    "        xy=(delta_lab-delta_lab_e, 0),  # point of origin.\n",
    "        width=delta_lab_e*2,\n",
    "        height=delta_omega_e_M,\n",
    "        linewidth=0,\n",
    "        color='green',\n",
    "        fill=True,\n",
    "        alpha=0.2,\n",
    "        zorder=3\n",
    "    )\n",
    ")\n",
    "\n",
    "ax.legend(fontsize=18, loc=(0.33, 0.775))\n",
    "fig.tight_layout()\n",
    "plt.savefig(\"../fig/bz_money.png\", dpi=200)"
   ]
  },
  {
   "cell_type": "code",
   "execution_count": null,
   "metadata": {
    "Collapsed": "false"
   },
   "outputs": [],
   "source": []
  },
  {
   "cell_type": "code",
   "execution_count": null,
   "metadata": {
    "Collapsed": "false"
   },
   "outputs": [],
   "source": []
  },
  {
   "cell_type": "code",
   "execution_count": null,
   "metadata": {
    "Collapsed": "false"
   },
   "outputs": [],
   "source": []
  }
 ],
 "metadata": {
  "kernelspec": {
   "display_name": "Python 3",
   "language": "python",
   "name": "python3"
  },
  "language_info": {
   "codemirror_mode": {
    "name": "ipython",
    "version": 3
   },
   "file_extension": ".py",
   "mimetype": "text/x-python",
   "name": "python",
   "nbconvert_exporter": "python",
   "pygments_lexer": "ipython3",
   "version": "3.7.6"
  }
 },
 "nbformat": 4,
 "nbformat_minor": 4
}
