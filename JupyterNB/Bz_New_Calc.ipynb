{
 "cells": [
  {
   "cell_type": "markdown",
   "metadata": {
    "Collapsed": "false"
   },
   "source": [
    "# Calculate the observed amplitudes with data."
   ]
  },
  {
   "cell_type": "markdown",
   "metadata": {
    "Collapsed": "false"
   },
   "source": [
    "Define constants"
   ]
  },
  {
   "cell_type": "code",
   "execution_count": 1,
   "metadata": {
    "Collapsed": "false"
   },
   "outputs": [],
   "source": [
    "from math import sqrt, radians, atan2, atan, tan, degrees\n",
    "from IPython.display import Latex\n",
    "import numpy as np\n",
    "font_size=14\n",
    "import matplotlib.pyplot as plt\n",
    "import matplotlib.patches as patches\n",
    "import os, sys\n",
    "sys.path.append('../CommonUtils/')\n",
    "import CommonUtils as cu"
   ]
  },
  {
   "cell_type": "code",
   "execution_count": 2,
   "metadata": {
    "Collapsed": "false"
   },
   "outputs": [
    {
     "name": "stdout",
     "output_type": "stream",
     "text": [
      "Mean B_r= 2.10725 +- 0.5964683179619369\n",
      "Mean B_r= 2.1 +- 0.6\n"
     ]
    }
   ],
   "source": [
    "br=   np.array([1.866,  2.424, 0.523, 3.616])\n",
    "br_e= np.array([1.008,  1.167, 1.147, 1.735])\n",
    "br_mean=np.mean(br)\n",
    "br_mean_e = 1.0/np.sqrt(np.sum(1.0/br_e**2))\n",
    "ds_names=('S12: 20 June', \"S18: 20 June\", \"S12: 24 March\", \"S18: 24 March\")\n",
    "# ds_colors=[\"g\", \"r\", \"k\", \"b\"]\n",
    "# ds_markers=[\"o\", \"^\", \"p\", \"D\"]\n",
    "ds_colors=[\"k\", \"k\", \"k\", \"k\"]\n",
    "ds_markers=[\"o\", \"o\", \"o\", \"o\"]\n",
    "\n",
    "print(\"Mean B_r=\", br_mean, \"+-\", br_mean_e)\n",
    "print(\"Mean B_r=\", round(br_mean,1), \"+-\", round(br_mean_e,1))"
   ]
  },
  {
   "cell_type": "code",
   "execution_count": 10,
   "metadata": {
    "Collapsed": "false"
   },
   "outputs": [
    {
     "data": {
      "image/png": "[encoded data removed]",
      "text/plain": [
       "<Figure size 432x288 with 1 Axes>"
      ]
     },
     "metadata": {
      "needs_background": "light"
     },
     "output_type": "display_data"
    }
   ],
   "source": [
    "fig, ax = cu.plot_fom(ds_names, br, br_e, ds_colors, ds_markers, y_label=r\"$B_r $ (ppm)\", no_legend=True)\n",
    "ax.set_xlim(0.7,4.3)\n",
    "ax.set_ylim(-1.3, 6.0)\n",
    "ax.plot([0,5],[br_mean, br_mean], ls=\":\", c=\"g\", label=r\"$B_x$=\"+str(round(br_mean,1))+\"(\"+str(round(br_mean_e,1))+r\") ppm\")\n",
    "# ax.plot([0,5],[br_mean+br_mean_e, br_mean+br_mean_e], ls=\"--\", c=\"orange\")\n",
    "# ax.plot([0,5],[br_mean-br_mean_e, br_mean-br_mean_e], ls=\"--\", c=\"orange\")\n",
    "ax.set_xlabel(\"\")\n",
    "plt.xticks(fontsize=11)\n",
    "ax.add_patch(patches.Rectangle(\n",
    "        xy=(0, br_mean-br_mean_e),  # point of origin.\n",
    "        width=5,\n",
    "        height=br_mean_e*2,\n",
    "        linewidth=0,\n",
    "        color='g',\n",
    "        fill=True,\n",
    "        alpha=0.5,\n",
    "        label=r\"$1\\sigma$ band\"\n",
    "    \n",
    "    )\n",
    ")\n",
    "plt.legend(fontsize=14, loc=(0.05,0.77))\n",
    "plt.tight_layout()\n",
    "fig.savefig(\"../fig/sum_br.png\", dpi=200, bbox_inches='tight');"
   ]
  },
  {
   "cell_type": "code",
   "execution_count": null,
   "metadata": {
    "Collapsed": "false"
   },
   "outputs": [],
   "source": []
  }
 ],
 "metadata": {
  "kernelspec": {
   "display_name": "Python 3",
   "language": "python",
   "name": "python3"
  },
  "language_info": {
   "codemirror_mode": {
    "name": "ipython",
    "version": 3
   },
   "file_extension": ".py",
   "mimetype": "text/x-python",
   "name": "python",
   "nbconvert_exporter": "python",
   "pygments_lexer": "ipython3",
   "version": "3.7.6"
  }
 },
 "nbformat": 4,
 "nbformat_minor": 4
}
