{
 "cells": [
  {
   "cell_type": "code",
   "execution_count": 1,
   "metadata": {
    "Collapsed": "false"
   },
   "outputs": [],
   "source": [
    "import os, sys\n",
    "sys.path.append('../CommonUtils/')\n",
    "import CommonUtils as cu\n",
    "import matplotlib.pyplot as plt\n",
    "import matplotlib.ticker as mticker\n",
    "import numpy as np\n",
    "%matplotlib inline"
   ]
  },
  {
   "cell_type": "code",
   "execution_count": 2,
   "metadata": {
    "Collapsed": "false"
   },
   "outputs": [
    {
     "name": "stdout",
     "output_type": "stream",
     "text": [
      "Run-1 precision 6.53 ppm\n"
     ]
    }
   ],
   "source": [
    "ds_prec = np.array([18, 15, 13, 10])\n",
    "prec_r1 = 1.0/np.sqrt(np.sum(1.0/ds_prec**2))\n",
    "print(\"Run-1 precision\", round(prec_r1,2), \"ppm\")"
   ]
  },
  {
   "cell_type": "markdown",
   "metadata": {
    "Collapsed": "false"
   },
   "source": [
    "### Based on 59.2M tracks yielding 6 ppm precision"
   ]
  },
  {
   "cell_type": "code",
   "execution_count": 3,
   "metadata": {
    "Collapsed": "false"
   },
   "outputs": [
    {
     "name": "stdout",
     "output_type": "stream",
     "text": [
      "Scaling by calo prec of 1.4 yields tracker prec of 5.55 ppm\n"
     ]
    }
   ],
   "source": [
    "n_tracks_r1 = 59.2e6\n",
    "r1_calo_prec = 1.4\n",
    "BNL_prec = 0.54 \n",
    "r1_calo_tracks = 930e6\n",
    "\n",
    "dR_calo = np.sqrt(r1_calo_tracks/n_tracks_r1) * r1_calo_prec\n",
    "print(\"Scaling by calo prec of\", r1_calo_prec,  \"yields tracker prec of\", round(dR_calo,2), \"ppm\" )"
   ]
  },
  {
   "cell_type": "code",
   "execution_count": 4,
   "metadata": {
    "Collapsed": "false"
   },
   "outputs": [
    {
     "name": "stdout",
     "output_type": "stream",
     "text": [
      "1.3 x1e9 tracks required to reach 1.4 ppm with trackers\n",
      "8.7 x1e9 tracks required to reach 0.54 ppm with trackers\n"
     ]
    }
   ],
   "source": [
    "r1_tracker_goal = 1.4 \n",
    "\n",
    "n_tracks_Done = ( prec_r1*np.sqrt(n_tracks_r1) /r1_tracker_goal )**2\n",
    "print(round(n_tracks_Done/1e9,1), \"x1e9 tracks required to reach\", r1_tracker_goal, \"ppm with trackers\")\n",
    "n_tracks_BNL = ( prec_r1*np.sqrt(n_tracks_r1) /BNL_prec )**2\n",
    "print(round(n_tracks_BNL/1e9,1), \"x1e9 tracks required to reach\", BNL_prec, \"ppm with trackers\")"
   ]
  },
  {
   "cell_type": "code",
   "execution_count": 5,
   "metadata": {
    "Collapsed": "false"
   },
   "outputs": [
    {
     "name": "stdout",
     "output_type": "stream",
     "text": [
      "Collecting 29600000.0 tracks per BNL worth of e+\n"
     ]
    }
   ],
   "source": [
    "raw_e_BNL_r1 = 2 # x2 BNL \n",
    "n_tracks_per_BNL = n_tracks_r1/raw_e_BNL_r1\n",
    "print(\"Collecting\", n_tracks_per_BNL, \"tracks per BNL worth of e+\")"
   ]
  },
  {
   "cell_type": "markdown",
   "metadata": {
    "Collapsed": "false"
   },
   "source": [
    "### For Run-1 to Run-5 based on raw e+ vs. BNL"
   ]
  },
  {
   "cell_type": "code",
   "execution_count": 6,
   "metadata": {
    "Collapsed": "false"
   },
   "outputs": [],
   "source": [
    "runs = (1, 2, 3, 4, 5)\n",
    "runs_BNL = (2,  4.2, 7.6, 15.0, 21.0)\n",
    "runs_BNL_corr = (1, 1.6, 1.8, 1.8, 1.8)"
   ]
  },
  {
   "cell_type": "markdown",
   "metadata": {
    "Collapsed": "false"
   },
   "source": [
    "### Assume scaling is the same as for Run-1"
   ]
  },
  {
   "cell_type": "code",
   "execution_count": 7,
   "metadata": {
    "Collapsed": "false"
   },
   "outputs": [
    {
     "name": "stdout",
     "output_type": "stream",
     "text": [
      "Uncorrected [5.9200e+07 1.2432e+08 2.2496e+08 4.4400e+08 6.2160e+08]\n",
      "Corrected [5.92000e+07 1.98912e+08 4.04928e+08 7.99200e+08 1.11888e+09]\n"
     ]
    }
   ],
   "source": [
    "tracks = np.array(runs_BNL) * n_tracks_per_BNL\n",
    "print(\"Uncorrected\", tracks)\n",
    "tracks = np.multiply(runs_BNL_corr, tracks)\n",
    "print(\"Corrected\", tracks)"
   ]
  },
  {
   "cell_type": "markdown",
   "metadata": {
    "Collapsed": "false"
   },
   "source": [
    "### Convert from N projected to precision\n",
    "$$ \\frac{\\delta R_1}{\\sqrt{N_2}} = \\frac{\\delta R_2}{\\sqrt{N_1}} $$"
   ]
  },
  {
   "cell_type": "code",
   "execution_count": 8,
   "metadata": {
    "Collapsed": "false"
   },
   "outputs": [],
   "source": [
    "prec = np.sqrt(n_tracks_r1) * prec_r1/np.sqrt(tracks)\n",
    "prec_4 = np.sqrt(n_tracks_r1) * prec_r1/np.sqrt(tracks*4)\n",
    "prec_2 = np.sqrt(n_tracks_r1) * prec_r1/np.sqrt(tracks*2)"
   ]
  },
  {
   "cell_type": "markdown",
   "metadata": {
    "Collapsed": "false"
   },
   "source": [
    "### Now for the secondary axis, estimate the end points (y-axis limits); How many tracks we need for 10 ppm and 0.1 ppm"
   ]
  },
  {
   "cell_type": "code",
   "execution_count": 9,
   "metadata": {
    "Collapsed": "false"
   },
   "outputs": [],
   "source": [
    "prec_min = 0.1\n",
    "prec_max= 0.54"
   ]
  },
  {
   "cell_type": "code",
   "execution_count": 11,
   "metadata": {
    "Collapsed": "false"
   },
   "outputs": [
    {
     "name": "stdout",
     "output_type": "stream",
     "text": [
      "No plot style specified, returning a nicely formatted axis only: use it e.g. 'ax.plot()'\n"
     ]
    },
    {
     "data": {
      "image/png": "[encoded data removed]",
      "text/plain": [
       "<Figure size 576x288 with 1 Axes>"
      ]
     },
     "metadata": {
      "needs_background": "light"
     },
     "output_type": "display_data"
    }
   ],
   "source": [
    "fig, ax = cu.plot(None, None, figsize=(8,4));\n",
    "ax.scatter(runs, prec, c=\"g\", marker=\"o\", label=\"Default efficiency\")\n",
    "ax.scatter(runs, prec_2, c=\"orange\", marker=\"p\", label=r\"Efficiency = $2\\times \\rm{default}$\")\n",
    "ax.scatter(runs, prec_4, c=\"purple\", marker=\"^\", label=r\"Efficiency = $4\\times \\rm{default}$\")\n",
    "\n",
    "# only int ticks on x-axis\n",
    "plt.xticks(runs)\n",
    "ax.set_xlim(0.5, 5.25)\n",
    "ax.set_xlabel(\"Run number\")\n",
    "ax.tick_params(axis='x', which='both', bottom=False, top=False, direction='inout')\n",
    "\n",
    "#now set exact limits and allow secondary axis\n",
    "ax.set_ylim(prec_min, 7)\n",
    "ax.set_ylabel(r\"$\\delta \\omega_a$ (ppm)\")\n",
    "\n",
    "# Plot the BNL and 1ppm lines\n",
    "ax.plot( [-0.1, 6], [1.2, 1.2], c=\"gray\", ls=\"--\", label=\"1.2 ppm precision (95% CL)\")\n",
    "ax.plot( [-0.1, 6], [0.54, 0.54], label=\"BNL precision\", c=\"black\", ls=\":\")\n",
    "\n",
    "ax.legend(fontsize=14)\n",
    "fig.tight_layout()\n",
    "plt.savefig(\"../fig/money.png\", dpi=200)"
   ]
  },
  {
   "cell_type": "markdown",
   "metadata": {
    "Collapsed": "false"
   },
   "source": [
    "# "
   ]
  },
  {
   "cell_type": "code",
   "execution_count": 42,
   "metadata": {
    "Collapsed": "false"
   },
   "outputs": [
    {
     "name": "stdout",
     "output_type": "stream",
     "text": [
      "No plot style specified, returning a nicely formatted axis only: use it e.g. 'ax.plot()'\n"
     ]
    },
    {
     "data": {
      "image/png": "[encoded data removed]",
      "text/plain": [
       "<Figure size 504x360 with 1 Axes>"
      ]
     },
     "metadata": {
      "needs_background": "light"
     },
     "output_type": "display_data"
    }
   ],
   "source": [
    "fig, ax = cu.plot(None, None);\n",
    "ax.scatter(runs, tracks, c=\"g\", marker=\"o\", label=\"Default efficiency (100%)\")\n",
    "ax.scatter(runs, tracks*4, c=\"orange\", marker=\"^\", label=r\"Efficiency = $4\\times \\rm{default}$\")\n",
    "ax.scatter(runs, tracks*6, c=\"purple\", marker=\"p\", label=r\"Efficiency = $6\\times \\rm{default}$\")\n",
    "\n",
    "# only int ticks on x-axis\n",
    "plt.xticks(runs)\n",
    "ax.set_xlim(0.5, 5.25)\n",
    "ax.set_xlabel(\"Run number\")\n",
    "ax.tick_params(axis='x', which='both', bottom=False, top=False, direction='inout')\n",
    "\n",
    "#now set exact limits and allow secondary axis\n",
    "ax.set_yscale('log')\n",
    "ax.set_ylim(ax.get_ylim()[0], ax.get_ylim()[1]*1.5)\n",
    "ax.set_ylabel(r'Number of tracks', fontsize=13)\n",
    "\n",
    "\n",
    "# # Plot the BNL and 1ppm lines\n",
    "# ax.plot( [-0.1, 6], [1, 1], c=\"gray\", ls=\"--\", label=\"1 ppm precision\")\n",
    "# ax.plot( [-0.1, 6], [0.54, 0.54], label=\"BNL precision\", c=\"black\", ls=\":\")\n",
    "\n",
    "ax.legend(fontsize=14)\n",
    "fig.tight_layout()\n",
    "plt.savefig(\"../fig/money_tracks.png\", dpi=200)"
   ]
  },
  {
   "cell_type": "code",
   "execution_count": null,
   "metadata": {
    "Collapsed": "false"
   },
   "outputs": [],
   "source": []
  },
  {
   "cell_type": "code",
   "execution_count": null,
   "metadata": {
    "Collapsed": "false"
   },
   "outputs": [],
   "source": []
  },
  {
   "cell_type": "code",
   "execution_count": null,
   "metadata": {},
   "outputs": [],
   "source": []
  }
 ],
 "metadata": {
  "kernelspec": {
   "display_name": "Python 3",
   "language": "python",
   "name": "python3"
  },
  "language_info": {
   "codemirror_mode": {
    "name": "ipython",
    "version": 3
   },
   "file_extension": ".py",
   "mimetype": "text/x-python",
   "name": "python",
   "nbconvert_exporter": "python",
   "pygments_lexer": "ipython3",
   "version": "3.8.3"
  }
 },
 "nbformat": 4,
 "nbformat_minor": 4
}
